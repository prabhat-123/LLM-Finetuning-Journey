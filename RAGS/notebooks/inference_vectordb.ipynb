{
 "cells": [
  {
   "cell_type": "code",
   "execution_count": 1,
   "id": "3445c639-1187-4f14-b38e-50eb178fc25c",
   "metadata": {},
   "outputs": [
    {
     "name": "stderr",
     "output_type": "stream",
     "text": [
      "/home/fm-pc-lt-219/anaconda3/envs/generative_nlp/lib/python3.8/site-packages/tqdm/auto.py:21: TqdmWarning: IProgress not found. Please update jupyter and ipywidgets. See https://ipywidgets.readthedocs.io/en/stable/user_install.html\n",
      "  from .autonotebook import tqdm as notebook_tqdm\n"
     ]
    }
   ],
   "source": [
    "import os\n",
    "import warnings\n",
    "import numpy as np\n",
    "import pandas as pd\n",
    "from tqdm import tqdm\n",
    "from sentence_transformers import SentenceTransformer\n",
    "\n",
    "warnings.filterwarnings('ignore')"
   ]
  },
  {
   "cell_type": "code",
   "execution_count": 2,
   "id": "9e971952-9a2d-49e6-ac94-a8c9c0e806d0",
   "metadata": {},
   "outputs": [],
   "source": [
    "model = SentenceTransformer('sentence-transformers/all-MiniLM-L6-v2')"
   ]
  },
  {
   "cell_type": "code",
   "execution_count": 3,
   "id": "0dc67815-1ace-4909-ba1c-a787685474f0",
   "metadata": {},
   "outputs": [],
   "source": [
    "path_to_data = os.path.join(os.path.dirname(os.getcwd()), 'receipe_data', 'indian_food_receipe.csv')"
   ]
  },
  {
   "cell_type": "code",
   "execution_count": 5,
   "id": "7088c4df-9668-4169-a8fb-f5499ec22643",
   "metadata": {},
   "outputs": [
    {
     "name": "stdout",
     "output_type": "stream",
     "text": [
      "(6169, 12)\n"
     ]
    },
    {
     "data": {
      "text/html": [
       "<div>\n",
       "<style scoped>\n",
       "    .dataframe tbody tr th:only-of-type {\n",
       "        vertical-align: middle;\n",
       "    }\n",
       "\n",
       "    .dataframe tbody tr th {\n",
       "        vertical-align: top;\n",
       "    }\n",
       "\n",
       "    .dataframe thead th {\n",
       "        text-align: right;\n",
       "    }\n",
       "</style>\n",
       "<table border=\"1\" class=\"dataframe\">\n",
       "  <thead>\n",
       "    <tr style=\"text-align: right;\">\n",
       "      <th></th>\n",
       "      <th>TranslatedRecipeName</th>\n",
       "      <th>TranslatedIngredients</th>\n",
       "      <th>PrepTimeInMins</th>\n",
       "      <th>CookTimeInMins</th>\n",
       "      <th>TotalTimeInMins</th>\n",
       "      <th>Servings</th>\n",
       "      <th>Cuisine</th>\n",
       "      <th>Course</th>\n",
       "      <th>Diet</th>\n",
       "      <th>TranslatedInstructions</th>\n",
       "      <th>receipe_instructions</th>\n",
       "      <th>receipe_instructions_embeddings</th>\n",
       "    </tr>\n",
       "  </thead>\n",
       "  <tbody>\n",
       "    <tr>\n",
       "      <th>0</th>\n",
       "      <td>Masala Karela Recipe</td>\n",
       "      <td>6 Karela (Bitter Gourd/ Pavakkai) - deseeded,S...</td>\n",
       "      <td>15</td>\n",
       "      <td>30</td>\n",
       "      <td>45</td>\n",
       "      <td>6</td>\n",
       "      <td>Indian</td>\n",
       "      <td>Side Dish</td>\n",
       "      <td>Diabetic Friendly</td>\n",
       "      <td>To begin making the Masala Karela Recipe,de-se...</td>\n",
       "      <td>How can we make Masala Karela Recipe? To begin...</td>\n",
       "      <td>[-1.30960166e-01  2.34784689e-02 -1.28126666e-...</td>\n",
       "    </tr>\n",
       "    <tr>\n",
       "      <th>1</th>\n",
       "      <td>Spicy Tomato Rice (Recipe)</td>\n",
       "      <td>2-1 / 2 cups rice - cooked, 3 tomatoes, 3 teas...</td>\n",
       "      <td>5</td>\n",
       "      <td>10</td>\n",
       "      <td>15</td>\n",
       "      <td>3</td>\n",
       "      <td>South Indian Recipes</td>\n",
       "      <td>Main Course</td>\n",
       "      <td>Vegetarian</td>\n",
       "      <td>To make tomato puliogere, first cut the tomato...</td>\n",
       "      <td>How can we make Spicy Tomato Rice (Recipe)? To...</td>\n",
       "      <td>[-9.50396582e-02 -9.98032615e-02 -4.78960872e-...</td>\n",
       "    </tr>\n",
       "    <tr>\n",
       "      <th>2</th>\n",
       "      <td>Ragi Semiya Upma Recipe - Ragi Millet Vermicel...</td>\n",
       "      <td>1-1/2 cups Rice Vermicelli Noodles (Thin),1 On...</td>\n",
       "      <td>20</td>\n",
       "      <td>30</td>\n",
       "      <td>50</td>\n",
       "      <td>4</td>\n",
       "      <td>South Indian Recipes</td>\n",
       "      <td>South Indian Breakfast</td>\n",
       "      <td>High Protein Vegetarian</td>\n",
       "      <td>To begin making the Ragi Vermicelli Recipe, fi...</td>\n",
       "      <td>How can we make Ragi Semiya Upma Recipe - Ragi...</td>\n",
       "      <td>[-1.19294345e-01  4.82010953e-02  7.38642062e-...</td>\n",
       "    </tr>\n",
       "    <tr>\n",
       "      <th>3</th>\n",
       "      <td>Gongura Chicken Curry Recipe - Andhra Style Go...</td>\n",
       "      <td>500 grams Chicken,2 Onion - chopped,1 Tomato -...</td>\n",
       "      <td>15</td>\n",
       "      <td>30</td>\n",
       "      <td>45</td>\n",
       "      <td>4</td>\n",
       "      <td>Andhra</td>\n",
       "      <td>Lunch</td>\n",
       "      <td>Non Vegeterian</td>\n",
       "      <td>To begin making Gongura Chicken Curry Recipe f...</td>\n",
       "      <td>How can we make Gongura Chicken Curry Recipe -...</td>\n",
       "      <td>[-1.03536166e-01 -6.44470677e-02 -5.50146885e-...</td>\n",
       "    </tr>\n",
       "    <tr>\n",
       "      <th>4</th>\n",
       "      <td>Andhra Style Alam Pachadi Recipe - Adrak Chutn...</td>\n",
       "      <td>1 tablespoon chana dal, 1 tablespoon white ura...</td>\n",
       "      <td>10</td>\n",
       "      <td>20</td>\n",
       "      <td>30</td>\n",
       "      <td>4</td>\n",
       "      <td>Andhra</td>\n",
       "      <td>South Indian Breakfast</td>\n",
       "      <td>Vegetarian</td>\n",
       "      <td>To make Andhra Style Alam Pachadi, first heat ...</td>\n",
       "      <td>How can we make Andhra Style Alam Pachadi Reci...</td>\n",
       "      <td>[-6.44649193e-02 -3.83207388e-02 -7.17725307e-...</td>\n",
       "    </tr>\n",
       "  </tbody>\n",
       "</table>\n",
       "</div>"
      ],
      "text/plain": [
       "                                TranslatedRecipeName   \n",
       "0                               Masala Karela Recipe  \\\n",
       "1                         Spicy Tomato Rice (Recipe)   \n",
       "2  Ragi Semiya Upma Recipe - Ragi Millet Vermicel...   \n",
       "3  Gongura Chicken Curry Recipe - Andhra Style Go...   \n",
       "4  Andhra Style Alam Pachadi Recipe - Adrak Chutn...   \n",
       "\n",
       "                               TranslatedIngredients  PrepTimeInMins   \n",
       "0  6 Karela (Bitter Gourd/ Pavakkai) - deseeded,S...              15  \\\n",
       "1  2-1 / 2 cups rice - cooked, 3 tomatoes, 3 teas...               5   \n",
       "2  1-1/2 cups Rice Vermicelli Noodles (Thin),1 On...              20   \n",
       "3  500 grams Chicken,2 Onion - chopped,1 Tomato -...              15   \n",
       "4  1 tablespoon chana dal, 1 tablespoon white ura...              10   \n",
       "\n",
       "   CookTimeInMins  TotalTimeInMins  Servings               Cuisine   \n",
       "0              30               45         6                Indian  \\\n",
       "1              10               15         3  South Indian Recipes   \n",
       "2              30               50         4  South Indian Recipes   \n",
       "3              30               45         4                Andhra   \n",
       "4              20               30         4                Andhra   \n",
       "\n",
       "                   Course                     Diet   \n",
       "0               Side Dish        Diabetic Friendly  \\\n",
       "1             Main Course               Vegetarian   \n",
       "2  South Indian Breakfast  High Protein Vegetarian   \n",
       "3                   Lunch           Non Vegeterian   \n",
       "4  South Indian Breakfast               Vegetarian   \n",
       "\n",
       "                              TranslatedInstructions   \n",
       "0  To begin making the Masala Karela Recipe,de-se...  \\\n",
       "1  To make tomato puliogere, first cut the tomato...   \n",
       "2  To begin making the Ragi Vermicelli Recipe, fi...   \n",
       "3  To begin making Gongura Chicken Curry Recipe f...   \n",
       "4  To make Andhra Style Alam Pachadi, first heat ...   \n",
       "\n",
       "                                receipe_instructions   \n",
       "0  How can we make Masala Karela Recipe? To begin...  \\\n",
       "1  How can we make Spicy Tomato Rice (Recipe)? To...   \n",
       "2  How can we make Ragi Semiya Upma Recipe - Ragi...   \n",
       "3  How can we make Gongura Chicken Curry Recipe -...   \n",
       "4  How can we make Andhra Style Alam Pachadi Reci...   \n",
       "\n",
       "                     receipe_instructions_embeddings  \n",
       "0  [-1.30960166e-01  2.34784689e-02 -1.28126666e-...  \n",
       "1  [-9.50396582e-02 -9.98032615e-02 -4.78960872e-...  \n",
       "2  [-1.19294345e-01  4.82010953e-02  7.38642062e-...  \n",
       "3  [-1.03536166e-01 -6.44470677e-02 -5.50146885e-...  \n",
       "4  [-6.44649193e-02 -3.83207388e-02 -7.17725307e-...  "
      ]
     },
     "execution_count": 5,
     "metadata": {},
     "output_type": "execute_result"
    }
   ],
   "source": [
    "df = pd.read_csv(path_to_data)\n",
    "print(df.shape)\n",
    "df.head()"
   ]
  },
  {
   "cell_type": "code",
   "execution_count": 6,
   "id": "71a51a08-896e-4617-bbbb-3456023f6e6e",
   "metadata": {},
   "outputs": [
    {
     "data": {
      "text/plain": [
       "TranslatedRecipeName\n",
       "Masala Karela Recipe                                                       1\n",
       "Umm Ali Recipe - Egyptian Dessert Recipe With Puff Pastry                  1\n",
       "Godhumai Idli Recipe (Instant Whole Wheat Flour Idli)                      1\n",
       "Vazhakkai Poriyal Recipe - Raw banana Roast With Pepper                    1\n",
       "Medu Vada Recipe (Traditional Fried Urad Dal Vada Using Vada Maker)        1\n",
       "                                                                          ..\n",
       " Soya Chunks Sabzi (Recipe In Hindi)                                       1\n",
       "Punjabi Mixed Vegetable Kadai Recipe                                       1\n",
       "Spaghetti Pasta Recipe in Basil Pesto Sauce                                1\n",
       "Sichuan Dan-Dan Noodles Recipe (Sesame Noodles With Crispy Tofu Recipe)    1\n",
       "Kashmiri Style Kokur Yakhni Recipe-Chicken Cooked In Yogurt                1\n",
       "Name: count, Length: 6169, dtype: int64"
      ]
     },
     "execution_count": 6,
     "metadata": {},
     "output_type": "execute_result"
    }
   ],
   "source": [
    "df['TranslatedRecipeName'].value_counts()"
   ]
  },
  {
   "cell_type": "code",
   "execution_count": 7,
   "id": "7f00950e-28e9-4922-b330-de35266ac206",
   "metadata": {},
   "outputs": [],
   "source": [
    "search_query = \"\"\"\n",
    "How can we make a tandoori chicken?\n",
    "\"\"\""
   ]
  },
  {
   "cell_type": "code",
   "execution_count": 8,
   "id": "005d347c-6fb1-4e75-981a-99edda292d2f",
   "metadata": {},
   "outputs": [],
   "source": [
    "query_vector = model.encode(search_query)"
   ]
  },
  {
   "cell_type": "code",
   "execution_count": 9,
   "id": "3cd551d5-f639-4f15-ba96-64d2cc48659f",
   "metadata": {},
   "outputs": [
    {
     "data": {
      "text/plain": [
       "384"
      ]
     },
     "execution_count": 9,
     "metadata": {},
     "output_type": "execute_result"
    }
   ],
   "source": [
    "len(query_vector)"
   ]
  },
  {
   "cell_type": "code",
   "execution_count": 10,
   "id": "3d9bf83c-0cfc-4bb7-bfa4-9664d7df7d71",
   "metadata": {},
   "outputs": [
    {
     "name": "stdout",
     "output_type": "stream",
     "text": [
      "384\n"
     ]
    }
   ],
   "source": [
    "print(len(query_vector))"
   ]
  },
  {
   "cell_type": "code",
   "execution_count": 11,
   "id": "294249e2-020e-44f6-85ba-7a47b841ef59",
   "metadata": {},
   "outputs": [],
   "source": [
    "search_params = {\n",
    "    \"metric_type\": \"L2\",\n",
    "    \"offset\": 0, \n",
    "    \"ignore_growing\": False,\n",
    "    \"params\": {\"nprobe\": 5}\n",
    "    \n",
    "}"
   ]
  },
  {
   "cell_type": "code",
   "execution_count": 12,
   "id": "69943221-70ba-4f67-9a98-ba24e48ce3dc",
   "metadata": {},
   "outputs": [],
   "source": [
    "## Import a PyMilvus package\n",
    "\n",
    "from pymilvus import (\n",
    "connections,\n",
    "utility,\n",
    "Collection,\n",
    ")"
   ]
  },
  {
   "cell_type": "code",
   "execution_count": 13,
   "id": "e973c52b-bff7-40f7-9bc8-825bb212bdd0",
   "metadata": {},
   "outputs": [],
   "source": [
    "connections.connect(alias = \"default\", hostname = \"localhost\", port = 19530)"
   ]
  },
  {
   "cell_type": "code",
   "execution_count": 14,
   "id": "4bcf741b-0e5d-425d-85af-a35c33c3082b",
   "metadata": {},
   "outputs": [],
   "source": [
    "receipe_collection = Collection('indian_receipe_collections')"
   ]
  },
  {
   "cell_type": "code",
   "execution_count": 15,
   "id": "95035929-6021-469f-86fe-69dbd0a95c46",
   "metadata": {},
   "outputs": [],
   "source": [
    "receipe_collection.load()"
   ]
  },
  {
   "cell_type": "code",
   "execution_count": 16,
   "id": "63b3202c-1c68-4801-bd90-f40dc9c9f9cc",
   "metadata": {},
   "outputs": [],
   "source": [
    "results = receipe_collection.search(\n",
    "    data = [query_vector],\n",
    "    anns_field = \"receipe_instructions_embeddings\",\n",
    "    param = search_params,\n",
    "    limit=3,\n",
    "    expr = None,\n",
    "    output_fields = ['TranslatedInstructions'],\n",
    "    consistency_level = \"Strong\"\n",
    "    \n",
    ")"
   ]
  },
  {
   "cell_type": "code",
   "execution_count": 17,
   "id": "0b7a0983-a4fb-426f-8e1a-29e7374802db",
   "metadata": {},
   "outputs": [
    {
     "data": {
      "text/plain": [
       "[819, 1527, 6156]"
      ]
     },
     "execution_count": 17,
     "metadata": {},
     "output_type": "execute_result"
    }
   ],
   "source": [
    "results[0].ids"
   ]
  },
  {
   "cell_type": "code",
   "execution_count": 18,
   "id": "7dfc1f40-943d-4645-96be-82a7291bed7b",
   "metadata": {},
   "outputs": [
    {
     "data": {
      "text/plain": [
       "[0.6178910732269287, 0.6190319061279297, 0.6323031783103943]"
      ]
     },
     "execution_count": 18,
     "metadata": {},
     "output_type": "execute_result"
    }
   ],
   "source": [
    "results[0].distances"
   ]
  },
  {
   "cell_type": "code",
   "execution_count": 20,
   "id": "f75e8917-3282-4015-9096-21de93f0a512",
   "metadata": {},
   "outputs": [
    {
     "name": "stdout",
     "output_type": "stream",
     "text": [
      "0.6178910732269287\n",
      "0.6190319061279297\n",
      "0.6323031783103943\n"
     ]
    }
   ],
   "source": [
    "top3_context = []\n",
    "for result in results[0]:\n",
    "    print(result.distance)\n",
    "    context = result.entity.get('TranslatedInstructions')\n",
    "    context.replace(\"\\\\xa0\", \" \")\n",
    "    context.replace(\"\\xa0\", \" \")\n",
    "    top3_context.append(context)"
   ]
  },
  {
   "cell_type": "code",
   "execution_count": 21,
   "id": "35997347-ed06-4e75-af53-cf89a8c9f174",
   "metadata": {},
   "outputs": [],
   "source": [
    "top3_receipes = \"\\n\\n\".join(top3_context)"
   ]
  },
  {
   "cell_type": "code",
   "execution_count": 22,
   "id": "c91f6e58-efb8-4ae9-904c-f616988e9562",
   "metadata": {},
   "outputs": [
    {
     "data": {
      "text/plain": [
       "\"To begin making the Tandoori Chicken Momos Recipe, first let’s make the dough.For the Momo doughIn a mixing bowl, add maida and add water slowly and knead to form a medium stiff dough. The dough should be non sticky, smooth and firm.\\xa0Keep the momo dough covered for 2 hours before making filling.To make the Chicken Momo FillingIn a mixing bowl. combine the chicken cubes along with\\xa0fresh cream,\\xa0tandoori masala,\\xa0\\xa0garam masala, cumin powder,\\xa0red chilli powder, chaat masala, salt and lemon juice and mix well. Set aside for 15 minutes.\\xa0Heat a grill pan on medium-high flame, place the marinated chicken pieces and cook for about 3-4 minutes on each side. Ensuring that the chicken momo filling is cooked.\\xa0Turn off the heat, transfer the chicken momo filling into a bowl and set aside.\\xa0To make the Tandoori Chicken Momos RecipeTake a bamboo dim sum maker, or the regular idli steamer and fill it with water and pre heat it over a medium heat.Divide the momo dough into equal portions, of lemon sized balls.Take each ball and start rolling it out on a surface. Roll out the dough as thin so that the outer layer of the momo is thin and delicate.In every flatten dough leaf, add 1 tablespoon of the chicken momo filling, and fold the edges to semi circles and start pleating to give a nice characteristic pleats.Do the same with all the rest of the dough and filling. Keep the completed\\xa0 Tandoori Chicken Momos under a moist cloth to prevent it from drying.\\xa0Grease the steamer plate with oil or place butter paper before placing Chicken Momos from prevent sticking.If using traditional steamer it has own boiler or if using bamboo steamer then boil water in a shallow pan and when water start boiling put momo filled bamboo steamer on it. Steam the Tandoori Chicken Momos\\xa0 for 10 - 15 minutes and turn off the heat.The next step is to make the Tandoori Sauce. In a large mixing bowl,\\xa0combine tandoori masala and tandoori sauce and toss well. Add the steamed chicken momos into the tandoori sauce and gently toss it to get it well coated.\\xa0Once done, place the\\xa0Tandoori Chicken Momo Recipe on to the serving platter and serve warm.Serve this\\xa0Tandoori Chicken Momos Recipe\\xa0as an appetizer along with a main course of\\xa0Mumbai Style Tawa Pulao Recipe With Moong Sprouts\\xa0and finish this simple meal with\\xa0Vermicelli Kunafa Recipe With Paneer & Cream Filling\\xa0as dessert.\\n\\n\\nFor Marinade:\\xa0To prepare Tandoori Chicken Crostini Recipe, first prepare the marinade. In a large mixing bowl mix Kashmiri red chili powder, lemon juice, yogurt, ginger-garlic paste, salt and mustard oil to make a paste.Add chicken pieces and mix well with the marinade such that everything incorporates well. Cover and refrigerate for an hour.Thread the chicken onto a skewer and cook in a moderately hot tandoor or in a preheated oven at 200°C for 12-15 minutes, or until almost done.Baste chicken with a little butter and cook for another 4-5 minutes. Remove, sprinkle some chaat masala.\\xa0Fine chop tandoori chicken pieces with a sharp knife and collect in a bowl.For Crostini:\\xa0Toast or Grill Ciabatta Bread slices, until crisp and keep aside.\\xa0Spread tandoori mayo over a bread, top with some vinegar soaked cabbage and onion slices, chopped tandoori chicken, drizzle mint and coriander dip generously, sprinkle some chopped green chilies, few drops of lemon juice and garnish with chopped coriander.\\xa0Similarly make many more Tandoori Chicken Crostini Recipe and serve hot with\\xa0Spinach Corn Pasta in Whole Wheat White Sauce\\xa0and a\\xa0salad.\\n\\nTo begin making the Smoked Tandoori Chicken Recipe, clean, wash and make 1 inch slits on Chicken thighs on both sides and keep aside.Mix all the ingredients mentioned in 'marination' in a large bowl to make a smooth paste.Add chicken thighs in it and rub the marinade well all over the pieces. Cling wrap the bowl and refrigerate it for minimum 3-4 hours. (Overnight marination gives much more amazing results)Grill Pan MethodHeat some mustard oil in a grilling pan and place the marinated chicken thighs and allow then to cook till they get well cooked.\\xa0Carefully flip the tandoori chicken and cook from another side as well.\\xa0Brush some ghee or mustard oil in top while the chicken is grilling.Ones the tandoori chicken is soft, juicy, charred and nicely cooked, transfer it in a broad, wide base bowl.Oven MethodPreheat the oven to 210 C for about 10 minutes.Once the oven is heated, place the marinated chicken in the oven in the middle rack. Bake the Tandoori Chicken for half the time on one side, drizzle more ghee or oil in between and then turn it over and slather some of the masala from the pan and even it out.\\xa0Bake until the masala and top of the tandoori chicken looks cooked and absolutely well done.For the Smoking the Tandoori Chicken\\xa0Place the Tandoori chicken on the sides of the bowl and a small steel bowl covered with aluminium foil in the centre.Take a piece of charcoal and hold it on fire with the help of a tong.As soon as the charcoal starts burning and is red hot place it in the small bowl.Take 1 tbsp of ghee over the charcoal and close the lid such that all the smoke remain inside the bowl of tandoori chickenKeep the lid closed and open only when you are ready to serve the Tandoori Chicken.Serve Stove Top Grilled And Smoked Tandoori Chicken as a starter at your house parties with\\xa0Dhaniya Pudina Chutney\\xa0and some\\xa0Pickled Onions.\\n\""
      ]
     },
     "execution_count": 22,
     "metadata": {},
     "output_type": "execute_result"
    }
   ],
   "source": [
    "top3_receipes"
   ]
  },
  {
   "cell_type": "code",
   "execution_count": null,
   "id": "c9826d13-498f-48f5-b780-b8b6d75d4bb7",
   "metadata": {},
   "outputs": [],
   "source": []
  }
 ],
 "metadata": {
  "kernelspec": {
   "display_name": "Python 3 (ipykernel)",
   "language": "python",
   "name": "python3"
  },
  "language_info": {
   "codemirror_mode": {
    "name": "ipython",
    "version": 3
   },
   "file_extension": ".py",
   "mimetype": "text/x-python",
   "name": "python",
   "nbconvert_exporter": "python",
   "pygments_lexer": "ipython3",
   "version": "3.8.0"
  }
 },
 "nbformat": 4,
 "nbformat_minor": 5
}
