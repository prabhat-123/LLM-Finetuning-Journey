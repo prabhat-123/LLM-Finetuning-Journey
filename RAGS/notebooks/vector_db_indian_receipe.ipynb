{
 "cells": [
  {
   "cell_type": "code",
   "execution_count": 1,
   "id": "3deeb328-08ac-4b86-9950-754f9667105c",
   "metadata": {},
   "outputs": [],
   "source": [
    "import os\n",
    "import numpy as np\n",
    "import pandas as pd\n"
   ]
  },
  {
   "cell_type": "code",
   "execution_count": 2,
   "id": "eb882e5f-bf3f-4785-b58d-f5a408fff146",
   "metadata": {},
   "outputs": [],
   "source": [
    "path_to_data = os.path.join(os.path.dirname(os.getcwd()), 'receipe_data', 'indian_food_receipe.csv')"
   ]
  },
  {
   "cell_type": "code",
   "execution_count": 3,
   "id": "ae327cf1-c08e-44b9-a81c-c0af314d4655",
   "metadata": {},
   "outputs": [
    {
     "name": "stdout",
     "output_type": "stream",
     "text": [
      "(6169, 12)\n"
     ]
    },
    {
     "data": {
      "text/html": [
       "<div>\n",
       "<style scoped>\n",
       "    .dataframe tbody tr th:only-of-type {\n",
       "        vertical-align: middle;\n",
       "    }\n",
       "\n",
       "    .dataframe tbody tr th {\n",
       "        vertical-align: top;\n",
       "    }\n",
       "\n",
       "    .dataframe thead th {\n",
       "        text-align: right;\n",
       "    }\n",
       "</style>\n",
       "<table border=\"1\" class=\"dataframe\">\n",
       "  <thead>\n",
       "    <tr style=\"text-align: right;\">\n",
       "      <th></th>\n",
       "      <th>TranslatedRecipeName</th>\n",
       "      <th>TranslatedIngredients</th>\n",
       "      <th>PrepTimeInMins</th>\n",
       "      <th>CookTimeInMins</th>\n",
       "      <th>TotalTimeInMins</th>\n",
       "      <th>Servings</th>\n",
       "      <th>Cuisine</th>\n",
       "      <th>Course</th>\n",
       "      <th>Diet</th>\n",
       "      <th>TranslatedInstructions</th>\n",
       "      <th>receipe_instructions</th>\n",
       "      <th>receipe_instructions_embeddings</th>\n",
       "    </tr>\n",
       "  </thead>\n",
       "  <tbody>\n",
       "    <tr>\n",
       "      <th>0</th>\n",
       "      <td>Masala Karela Recipe</td>\n",
       "      <td>6 Karela (Bitter Gourd/ Pavakkai) - deseeded,S...</td>\n",
       "      <td>15</td>\n",
       "      <td>30</td>\n",
       "      <td>45</td>\n",
       "      <td>6</td>\n",
       "      <td>Indian</td>\n",
       "      <td>Side Dish</td>\n",
       "      <td>Diabetic Friendly</td>\n",
       "      <td>To begin making the Masala Karela Recipe,de-se...</td>\n",
       "      <td>How can we make Masala Karela Recipe? To begin...</td>\n",
       "      <td>[-1.30960166e-01  2.34784689e-02 -1.28126666e-...</td>\n",
       "    </tr>\n",
       "    <tr>\n",
       "      <th>1</th>\n",
       "      <td>Spicy Tomato Rice (Recipe)</td>\n",
       "      <td>2-1 / 2 cups rice - cooked, 3 tomatoes, 3 teas...</td>\n",
       "      <td>5</td>\n",
       "      <td>10</td>\n",
       "      <td>15</td>\n",
       "      <td>3</td>\n",
       "      <td>South Indian Recipes</td>\n",
       "      <td>Main Course</td>\n",
       "      <td>Vegetarian</td>\n",
       "      <td>To make tomato puliogere, first cut the tomato...</td>\n",
       "      <td>How can we make Spicy Tomato Rice (Recipe)? To...</td>\n",
       "      <td>[-9.50396582e-02 -9.98032615e-02 -4.78960872e-...</td>\n",
       "    </tr>\n",
       "    <tr>\n",
       "      <th>2</th>\n",
       "      <td>Ragi Semiya Upma Recipe - Ragi Millet Vermicel...</td>\n",
       "      <td>1-1/2 cups Rice Vermicelli Noodles (Thin),1 On...</td>\n",
       "      <td>20</td>\n",
       "      <td>30</td>\n",
       "      <td>50</td>\n",
       "      <td>4</td>\n",
       "      <td>South Indian Recipes</td>\n",
       "      <td>South Indian Breakfast</td>\n",
       "      <td>High Protein Vegetarian</td>\n",
       "      <td>To begin making the Ragi Vermicelli Recipe, fi...</td>\n",
       "      <td>How can we make Ragi Semiya Upma Recipe - Ragi...</td>\n",
       "      <td>[-1.19294345e-01  4.82010953e-02  7.38642062e-...</td>\n",
       "    </tr>\n",
       "    <tr>\n",
       "      <th>3</th>\n",
       "      <td>Gongura Chicken Curry Recipe - Andhra Style Go...</td>\n",
       "      <td>500 grams Chicken,2 Onion - chopped,1 Tomato -...</td>\n",
       "      <td>15</td>\n",
       "      <td>30</td>\n",
       "      <td>45</td>\n",
       "      <td>4</td>\n",
       "      <td>Andhra</td>\n",
       "      <td>Lunch</td>\n",
       "      <td>Non Vegeterian</td>\n",
       "      <td>To begin making Gongura Chicken Curry Recipe f...</td>\n",
       "      <td>How can we make Gongura Chicken Curry Recipe -...</td>\n",
       "      <td>[-1.03536166e-01 -6.44470677e-02 -5.50146885e-...</td>\n",
       "    </tr>\n",
       "    <tr>\n",
       "      <th>4</th>\n",
       "      <td>Andhra Style Alam Pachadi Recipe - Adrak Chutn...</td>\n",
       "      <td>1 tablespoon chana dal, 1 tablespoon white ura...</td>\n",
       "      <td>10</td>\n",
       "      <td>20</td>\n",
       "      <td>30</td>\n",
       "      <td>4</td>\n",
       "      <td>Andhra</td>\n",
       "      <td>South Indian Breakfast</td>\n",
       "      <td>Vegetarian</td>\n",
       "      <td>To make Andhra Style Alam Pachadi, first heat ...</td>\n",
       "      <td>How can we make Andhra Style Alam Pachadi Reci...</td>\n",
       "      <td>[-6.44649193e-02 -3.83207388e-02 -7.17725307e-...</td>\n",
       "    </tr>\n",
       "  </tbody>\n",
       "</table>\n",
       "</div>"
      ],
      "text/plain": [
       "                                TranslatedRecipeName   \n",
       "0                               Masala Karela Recipe  \\\n",
       "1                         Spicy Tomato Rice (Recipe)   \n",
       "2  Ragi Semiya Upma Recipe - Ragi Millet Vermicel...   \n",
       "3  Gongura Chicken Curry Recipe - Andhra Style Go...   \n",
       "4  Andhra Style Alam Pachadi Recipe - Adrak Chutn...   \n",
       "\n",
       "                               TranslatedIngredients  PrepTimeInMins   \n",
       "0  6 Karela (Bitter Gourd/ Pavakkai) - deseeded,S...              15  \\\n",
       "1  2-1 / 2 cups rice - cooked, 3 tomatoes, 3 teas...               5   \n",
       "2  1-1/2 cups Rice Vermicelli Noodles (Thin),1 On...              20   \n",
       "3  500 grams Chicken,2 Onion - chopped,1 Tomato -...              15   \n",
       "4  1 tablespoon chana dal, 1 tablespoon white ura...              10   \n",
       "\n",
       "   CookTimeInMins  TotalTimeInMins  Servings               Cuisine   \n",
       "0              30               45         6                Indian  \\\n",
       "1              10               15         3  South Indian Recipes   \n",
       "2              30               50         4  South Indian Recipes   \n",
       "3              30               45         4                Andhra   \n",
       "4              20               30         4                Andhra   \n",
       "\n",
       "                   Course                     Diet   \n",
       "0               Side Dish        Diabetic Friendly  \\\n",
       "1             Main Course               Vegetarian   \n",
       "2  South Indian Breakfast  High Protein Vegetarian   \n",
       "3                   Lunch           Non Vegeterian   \n",
       "4  South Indian Breakfast               Vegetarian   \n",
       "\n",
       "                              TranslatedInstructions   \n",
       "0  To begin making the Masala Karela Recipe,de-se...  \\\n",
       "1  To make tomato puliogere, first cut the tomato...   \n",
       "2  To begin making the Ragi Vermicelli Recipe, fi...   \n",
       "3  To begin making Gongura Chicken Curry Recipe f...   \n",
       "4  To make Andhra Style Alam Pachadi, first heat ...   \n",
       "\n",
       "                                receipe_instructions   \n",
       "0  How can we make Masala Karela Recipe? To begin...  \\\n",
       "1  How can we make Spicy Tomato Rice (Recipe)? To...   \n",
       "2  How can we make Ragi Semiya Upma Recipe - Ragi...   \n",
       "3  How can we make Gongura Chicken Curry Recipe -...   \n",
       "4  How can we make Andhra Style Alam Pachadi Reci...   \n",
       "\n",
       "                     receipe_instructions_embeddings  \n",
       "0  [-1.30960166e-01  2.34784689e-02 -1.28126666e-...  \n",
       "1  [-9.50396582e-02 -9.98032615e-02 -4.78960872e-...  \n",
       "2  [-1.19294345e-01  4.82010953e-02  7.38642062e-...  \n",
       "3  [-1.03536166e-01 -6.44470677e-02 -5.50146885e-...  \n",
       "4  [-6.44649193e-02 -3.83207388e-02 -7.17725307e-...  "
      ]
     },
     "execution_count": 3,
     "metadata": {},
     "output_type": "execute_result"
    }
   ],
   "source": [
    "df = pd.read_csv(path_to_data)\n",
    "print(df.shape)\n",
    "df.head()"
   ]
  },
  {
   "cell_type": "markdown",
   "id": "6ce2d575-7c58-4943-812a-0d1ba759963c",
   "metadata": {},
   "source": [
    "## Check Null Values"
   ]
  },
  {
   "cell_type": "code",
   "execution_count": 4,
   "id": "c79bcfec-d0f7-4103-a184-18658ae9e22c",
   "metadata": {
    "scrolled": true
   },
   "outputs": [
    {
     "data": {
      "text/plain": [
       "TranslatedRecipeName               0\n",
       "TranslatedIngredients              6\n",
       "PrepTimeInMins                     0\n",
       "CookTimeInMins                     0\n",
       "TotalTimeInMins                    0\n",
       "Servings                           0\n",
       "Cuisine                            0\n",
       "Course                             0\n",
       "Diet                               0\n",
       "TranslatedInstructions             0\n",
       "receipe_instructions               0\n",
       "receipe_instructions_embeddings    0\n",
       "dtype: int64"
      ]
     },
     "execution_count": 4,
     "metadata": {},
     "output_type": "execute_result"
    }
   ],
   "source": [
    "df.isnull().sum()"
   ]
  },
  {
   "cell_type": "markdown",
   "id": "79d62774-d7b5-4806-9307-66d61fb09caa",
   "metadata": {},
   "source": [
    "## Drop Null Values"
   ]
  },
  {
   "cell_type": "code",
   "execution_count": 5,
   "id": "92f9e478-1023-4de2-b710-2ea1c40fb9a9",
   "metadata": {},
   "outputs": [],
   "source": [
    "df.dropna(inplace = True)"
   ]
  },
  {
   "cell_type": "code",
   "execution_count": 6,
   "id": "ffbb97fe-5470-4750-b373-34fa92f99668",
   "metadata": {},
   "outputs": [
    {
     "data": {
      "text/plain": [
       "TranslatedRecipeName               0\n",
       "TranslatedIngredients              0\n",
       "PrepTimeInMins                     0\n",
       "CookTimeInMins                     0\n",
       "TotalTimeInMins                    0\n",
       "Servings                           0\n",
       "Cuisine                            0\n",
       "Course                             0\n",
       "Diet                               0\n",
       "TranslatedInstructions             0\n",
       "receipe_instructions               0\n",
       "receipe_instructions_embeddings    0\n",
       "dtype: int64"
      ]
     },
     "execution_count": 6,
     "metadata": {},
     "output_type": "execute_result"
    }
   ],
   "source": [
    "df.isnull().sum()"
   ]
  },
  {
   "cell_type": "code",
   "execution_count": 7,
   "id": "0e91c2eb-ae3b-41b6-9dba-920681a7d82d",
   "metadata": {},
   "outputs": [],
   "source": [
    "# Define a function to parse the string representation of numpy vectors\n",
    "def parse_vector_embedding(string_vector):\n",
    "    # Remove brackets from the string\n",
    "    string_vector = string_vector.strip('[').strip(']')\n",
    "    # Split the string using space as delimiter and convert to integers\n",
    "    vector = [float(x) for x in string_vector.split()]\n",
    "    return vector\n"
   ]
  },
  {
   "cell_type": "code",
   "execution_count": 8,
   "id": "c6d58848-cf63-452c-86a0-03fb06608708",
   "metadata": {},
   "outputs": [
    {
     "name": "stdout",
     "output_type": "stream",
     "text": [
      "(6163, 12)\n"
     ]
    },
    {
     "data": {
      "text/html": [
       "<div>\n",
       "<style scoped>\n",
       "    .dataframe tbody tr th:only-of-type {\n",
       "        vertical-align: middle;\n",
       "    }\n",
       "\n",
       "    .dataframe tbody tr th {\n",
       "        vertical-align: top;\n",
       "    }\n",
       "\n",
       "    .dataframe thead th {\n",
       "        text-align: right;\n",
       "    }\n",
       "</style>\n",
       "<table border=\"1\" class=\"dataframe\">\n",
       "  <thead>\n",
       "    <tr style=\"text-align: right;\">\n",
       "      <th></th>\n",
       "      <th>TranslatedRecipeName</th>\n",
       "      <th>TranslatedIngredients</th>\n",
       "      <th>PrepTimeInMins</th>\n",
       "      <th>CookTimeInMins</th>\n",
       "      <th>TotalTimeInMins</th>\n",
       "      <th>Servings</th>\n",
       "      <th>Cuisine</th>\n",
       "      <th>Course</th>\n",
       "      <th>Diet</th>\n",
       "      <th>TranslatedInstructions</th>\n",
       "      <th>receipe_instructions</th>\n",
       "      <th>receipe_instructions_embeddings</th>\n",
       "    </tr>\n",
       "  </thead>\n",
       "  <tbody>\n",
       "    <tr>\n",
       "      <th>0</th>\n",
       "      <td>Masala Karela Recipe</td>\n",
       "      <td>6 Karela (Bitter Gourd/ Pavakkai) - deseeded,S...</td>\n",
       "      <td>15</td>\n",
       "      <td>30</td>\n",
       "      <td>45</td>\n",
       "      <td>6</td>\n",
       "      <td>Indian</td>\n",
       "      <td>Side Dish</td>\n",
       "      <td>Diabetic Friendly</td>\n",
       "      <td>To begin making the Masala Karela Recipe,de-se...</td>\n",
       "      <td>How can we make Masala Karela Recipe? To begin...</td>\n",
       "      <td>[-0.130960166, 0.0234784689, -0.128126666, -0....</td>\n",
       "    </tr>\n",
       "    <tr>\n",
       "      <th>1</th>\n",
       "      <td>Spicy Tomato Rice (Recipe)</td>\n",
       "      <td>2-1 / 2 cups rice - cooked, 3 tomatoes, 3 teas...</td>\n",
       "      <td>5</td>\n",
       "      <td>10</td>\n",
       "      <td>15</td>\n",
       "      <td>3</td>\n",
       "      <td>South Indian Recipes</td>\n",
       "      <td>Main Course</td>\n",
       "      <td>Vegetarian</td>\n",
       "      <td>To make tomato puliogere, first cut the tomato...</td>\n",
       "      <td>How can we make Spicy Tomato Rice (Recipe)? To...</td>\n",
       "      <td>[-0.0950396582, -0.0998032615, -0.0478960872, ...</td>\n",
       "    </tr>\n",
       "    <tr>\n",
       "      <th>2</th>\n",
       "      <td>Ragi Semiya Upma Recipe - Ragi Millet Vermicel...</td>\n",
       "      <td>1-1/2 cups Rice Vermicelli Noodles (Thin),1 On...</td>\n",
       "      <td>20</td>\n",
       "      <td>30</td>\n",
       "      <td>50</td>\n",
       "      <td>4</td>\n",
       "      <td>South Indian Recipes</td>\n",
       "      <td>South Indian Breakfast</td>\n",
       "      <td>High Protein Vegetarian</td>\n",
       "      <td>To begin making the Ragi Vermicelli Recipe, fi...</td>\n",
       "      <td>How can we make Ragi Semiya Upma Recipe - Ragi...</td>\n",
       "      <td>[-0.119294345, 0.0482010953, 0.000738642062, -...</td>\n",
       "    </tr>\n",
       "    <tr>\n",
       "      <th>3</th>\n",
       "      <td>Gongura Chicken Curry Recipe - Andhra Style Go...</td>\n",
       "      <td>500 grams Chicken,2 Onion - chopped,1 Tomato -...</td>\n",
       "      <td>15</td>\n",
       "      <td>30</td>\n",
       "      <td>45</td>\n",
       "      <td>4</td>\n",
       "      <td>Andhra</td>\n",
       "      <td>Lunch</td>\n",
       "      <td>Non Vegeterian</td>\n",
       "      <td>To begin making Gongura Chicken Curry Recipe f...</td>\n",
       "      <td>How can we make Gongura Chicken Curry Recipe -...</td>\n",
       "      <td>[-0.103536166, -0.0644470677, -0.0550146885, 0...</td>\n",
       "    </tr>\n",
       "    <tr>\n",
       "      <th>4</th>\n",
       "      <td>Andhra Style Alam Pachadi Recipe - Adrak Chutn...</td>\n",
       "      <td>1 tablespoon chana dal, 1 tablespoon white ura...</td>\n",
       "      <td>10</td>\n",
       "      <td>20</td>\n",
       "      <td>30</td>\n",
       "      <td>4</td>\n",
       "      <td>Andhra</td>\n",
       "      <td>South Indian Breakfast</td>\n",
       "      <td>Vegetarian</td>\n",
       "      <td>To make Andhra Style Alam Pachadi, first heat ...</td>\n",
       "      <td>How can we make Andhra Style Alam Pachadi Reci...</td>\n",
       "      <td>[-0.0644649193, -0.0383207388, -0.0717725307, ...</td>\n",
       "    </tr>\n",
       "  </tbody>\n",
       "</table>\n",
       "</div>"
      ],
      "text/plain": [
       "                                TranslatedRecipeName   \n",
       "0                               Masala Karela Recipe  \\\n",
       "1                         Spicy Tomato Rice (Recipe)   \n",
       "2  Ragi Semiya Upma Recipe - Ragi Millet Vermicel...   \n",
       "3  Gongura Chicken Curry Recipe - Andhra Style Go...   \n",
       "4  Andhra Style Alam Pachadi Recipe - Adrak Chutn...   \n",
       "\n",
       "                               TranslatedIngredients  PrepTimeInMins   \n",
       "0  6 Karela (Bitter Gourd/ Pavakkai) - deseeded,S...              15  \\\n",
       "1  2-1 / 2 cups rice - cooked, 3 tomatoes, 3 teas...               5   \n",
       "2  1-1/2 cups Rice Vermicelli Noodles (Thin),1 On...              20   \n",
       "3  500 grams Chicken,2 Onion - chopped,1 Tomato -...              15   \n",
       "4  1 tablespoon chana dal, 1 tablespoon white ura...              10   \n",
       "\n",
       "   CookTimeInMins  TotalTimeInMins  Servings               Cuisine   \n",
       "0              30               45         6                Indian  \\\n",
       "1              10               15         3  South Indian Recipes   \n",
       "2              30               50         4  South Indian Recipes   \n",
       "3              30               45         4                Andhra   \n",
       "4              20               30         4                Andhra   \n",
       "\n",
       "                   Course                     Diet   \n",
       "0               Side Dish        Diabetic Friendly  \\\n",
       "1             Main Course               Vegetarian   \n",
       "2  South Indian Breakfast  High Protein Vegetarian   \n",
       "3                   Lunch           Non Vegeterian   \n",
       "4  South Indian Breakfast               Vegetarian   \n",
       "\n",
       "                              TranslatedInstructions   \n",
       "0  To begin making the Masala Karela Recipe,de-se...  \\\n",
       "1  To make tomato puliogere, first cut the tomato...   \n",
       "2  To begin making the Ragi Vermicelli Recipe, fi...   \n",
       "3  To begin making Gongura Chicken Curry Recipe f...   \n",
       "4  To make Andhra Style Alam Pachadi, first heat ...   \n",
       "\n",
       "                                receipe_instructions   \n",
       "0  How can we make Masala Karela Recipe? To begin...  \\\n",
       "1  How can we make Spicy Tomato Rice (Recipe)? To...   \n",
       "2  How can we make Ragi Semiya Upma Recipe - Ragi...   \n",
       "3  How can we make Gongura Chicken Curry Recipe -...   \n",
       "4  How can we make Andhra Style Alam Pachadi Reci...   \n",
       "\n",
       "                     receipe_instructions_embeddings  \n",
       "0  [-0.130960166, 0.0234784689, -0.128126666, -0....  \n",
       "1  [-0.0950396582, -0.0998032615, -0.0478960872, ...  \n",
       "2  [-0.119294345, 0.0482010953, 0.000738642062, -...  \n",
       "3  [-0.103536166, -0.0644470677, -0.0550146885, 0...  \n",
       "4  [-0.0644649193, -0.0383207388, -0.0717725307, ...  "
      ]
     },
     "execution_count": 8,
     "metadata": {},
     "output_type": "execute_result"
    }
   ],
   "source": [
    "df['receipe_instructions_embeddings'] = df['receipe_instructions_embeddings'].apply(parse_vector_embedding)\n",
    "print(df.shape)\n",
    "df.head()"
   ]
  },
  {
   "cell_type": "code",
   "execution_count": 9,
   "id": "baa3f7b5-2e7f-458a-812d-2b056be7cab5",
   "metadata": {},
   "outputs": [
    {
     "data": {
      "text/plain": [
       "1371"
      ]
     },
     "execution_count": 9,
     "metadata": {},
     "output_type": "execute_result"
    }
   ],
   "source": [
    "df['TranslatedIngredients'].str.len().max()"
   ]
  },
  {
   "cell_type": "code",
   "execution_count": 10,
   "id": "c8aaf487-01ec-4d82-802d-210e01b44691",
   "metadata": {},
   "outputs": [],
   "source": [
    "# type(df['receipe_instructions_embeddings'][0])"
   ]
  },
  {
   "cell_type": "code",
   "execution_count": 13,
   "id": "d18816b6-12d7-42e5-be23-ad12d3b0ed50",
   "metadata": {},
   "outputs": [],
   "source": [
    "from pymilvus import (\n",
    "connections,\n",
    "utility,\n",
    "FieldSchema,\n",
    "CollectionSchema,\n",
    "DataType,\n",
    "Collection,\n",
    ")"
   ]
  },
  {
   "cell_type": "code",
   "execution_count": 14,
   "id": "191ee65b-0c35-4b85-bbef-2ff8234c87f6",
   "metadata": {},
   "outputs": [],
   "source": [
    "connections.connect(alias = \"default\", host = 'localhost', port = 19530)"
   ]
  },
  {
   "cell_type": "code",
   "execution_count": 16,
   "id": "8b352430-6459-4b21-8fa2-b287c50e9272",
   "metadata": {},
   "outputs": [],
   "source": [
    "# utility.drop_collection('indian_receipe_collections')"
   ]
  },
  {
   "cell_type": "code",
   "execution_count": 17,
   "id": "201fa8c7-3874-4f7e-92b6-6b46d717e320",
   "metadata": {},
   "outputs": [],
   "source": [
    "## Create Milvus Collections\n",
    "fields = [\n",
    "    FieldSchema(name = \"pk\", dtype = DataType.INT64, is_primary = True, \n",
    "                auto_id = False),\n",
    "    FieldSchema(name=\"TranslatedReceipeName\", dtype = DataType.VARCHAR,\n",
    "                max_length = 132),\n",
    "    FieldSchema(name=\"TranslatedIngredients\", dtype = DataType.VARCHAR,\n",
    "                max_length = 2000),\n",
    "    FieldSchema(name=\"PrepTimeInMins\", dtype = DataType.INT64),\n",
    "    FieldSchema(name=\"CookTimeInMins\", dtype = DataType.INT64),\n",
    "    FieldSchema(name=\"TotalTimeInMins\", dtype = DataType.INT64),\n",
    "    FieldSchema(name=\"Servings\", dtype = DataType.INT64),\n",
    "    FieldSchema(name=\"Cuisine\", dtype = DataType.VARCHAR,\n",
    "                max_length = 32),\n",
    "    FieldSchema(name=\"Course\", dtype = DataType.VARCHAR,\n",
    "                max_length = 32),\n",
    "    FieldSchema(name=\"Diet\", dtype = DataType.VARCHAR,\n",
    "                max_length = 32),\n",
    "    FieldSchema(name=\"TranslatedInstructions\", dtype = DataType.VARCHAR,\n",
    "                max_length = 6000),\n",
    "    FieldSchema(name=\"receipe_instructions\", dtype = DataType.VARCHAR,\n",
    "                max_length = 6000),\n",
    "    FieldSchema(name = \"receipe_instructions_embeddings\", dtype = DataType.FLOAT_VECTOR,\n",
    "                dim = 384)\n",
    "]\n"
   ]
  },
  {
   "cell_type": "code",
   "execution_count": 18,
   "id": "61998428-0697-4c6a-93d7-a003e89f2bf1",
   "metadata": {},
   "outputs": [],
   "source": [
    "schema = CollectionSchema(fields, \"Collections for storing Indian Food Receipe Embeddings\")\n",
    "receipe_collection = Collection(\"indian_receipe_collections\", schema)"
   ]
  },
  {
   "cell_type": "code",
   "execution_count": 19,
   "id": "2f0885af-6d58-4b96-8d08-889d37170162",
   "metadata": {},
   "outputs": [],
   "source": [
    "# utility.drop_collection('indian_receipe_collections')"
   ]
  },
  {
   "cell_type": "markdown",
   "id": "e6f382f1-4a20-4016-b2dd-c9ff23a3cc29",
   "metadata": {},
   "source": [
    "## Build indexes on entities"
   ]
  },
  {
   "cell_type": "code",
   "execution_count": 20,
   "id": "08767245-2dc2-4098-a697-e901c730f75d",
   "metadata": {},
   "outputs": [],
   "source": [
    "index = {\n",
    "    \"index_type\": \"IVF_FLAT\",\n",
    "    \"metric_type\": \"L2\", # Cosine Similarity\n",
    "    \"params\": {\"nlist\": 128},\n",
    "}"
   ]
  },
  {
   "cell_type": "markdown",
   "id": "d9557f88-ad1f-4024-bbe9-2554716014e8",
   "metadata": {},
   "source": [
    "## Create index on indian_receipe_collections"
   ]
  },
  {
   "cell_type": "code",
   "execution_count": 21,
   "id": "019b4e27-c26c-4988-a429-a32c05501075",
   "metadata": {},
   "outputs": [
    {
     "data": {
      "text/plain": [
       "Status(code=0, message=)"
      ]
     },
     "execution_count": 21,
     "metadata": {},
     "output_type": "execute_result"
    }
   ],
   "source": [
    "receipe_collection.create_index('receipe_instructions_embeddings', index)"
   ]
  },
  {
   "cell_type": "code",
   "execution_count": 22,
   "id": "37e7ba9c-3c92-4e7a-984c-babef5f7a9cb",
   "metadata": {},
   "outputs": [],
   "source": [
    "data = [\n",
    "    list(df.index),\n",
    "    list(df['TranslatedRecipeName']),\n",
    "    list(df['TranslatedIngredients']),\n",
    "    list(df['PrepTimeInMins']),\n",
    "    list(df['CookTimeInMins']),\n",
    "    list(df['TotalTimeInMins']),\n",
    "    list(df['Servings']),\n",
    "    list(df['Cuisine']),\n",
    "    list(df['Course']),\n",
    "    list(df['Diet']),\n",
    "    list(df['TranslatedInstructions']),\n",
    "    list(df['receipe_instructions']),\n",
    "    list(df['receipe_instructions_embeddings'])\n",
    "]"
   ]
  },
  {
   "cell_type": "code",
   "execution_count": 23,
   "id": "4b4bbcc2-7164-4d48-b187-8f6b1d20bf9b",
   "metadata": {},
   "outputs": [],
   "source": [
    "receipe_collection.insert(data)\n",
    "receipe_collection.flush()"
   ]
  },
  {
   "cell_type": "code",
   "execution_count": 24,
   "id": "04fe6e00-edb8-4603-805e-4c7885ce4567",
   "metadata": {},
   "outputs": [],
   "source": [
    "receipe_collection.load()"
   ]
  },
  {
   "cell_type": "markdown",
   "id": "5a528295-cbd0-44c0-a211-db7f8961324b",
   "metadata": {},
   "source": [
    "## Start attu db visualization tool on:\n",
    "- localhost:8000\n",
    "  \n",
    "- You are asked for username and passport use:\n",
    "  \n",
    "             - root as username\n",
    "             - Milvus as password"
   ]
  },
  {
   "cell_type": "code",
   "execution_count": null,
   "id": "a9700445-6589-47cf-972b-9a24340fab5c",
   "metadata": {},
   "outputs": [],
   "source": []
  }
 ],
 "metadata": {
  "kernelspec": {
   "display_name": "Python 3 (ipykernel)",
   "language": "python",
   "name": "python3"
  },
  "language_info": {
   "codemirror_mode": {
    "name": "ipython",
    "version": 3
   },
   "file_extension": ".py",
   "mimetype": "text/x-python",
   "name": "python",
   "nbconvert_exporter": "python",
   "pygments_lexer": "ipython3",
   "version": "3.8.0"
  }
 },
 "nbformat": 4,
 "nbformat_minor": 5
}
