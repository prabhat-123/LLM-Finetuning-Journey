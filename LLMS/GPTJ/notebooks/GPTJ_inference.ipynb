{
 "cells": [
  {
   "cell_type": "code",
   "execution_count": 1,
   "id": "d9ce0fb8-d904-4bef-b9a2-d467c5f4fa87",
   "metadata": {},
   "outputs": [
    {
     "name": "stderr",
     "output_type": "stream",
     "text": [
      "2023-07-27 07:57:46.372562: I tensorflow/core/util/port.cc:110] oneDNN custom operations are on. You may see slightly different numerical results due to floating-point round-off errors from different computation orders. To turn them off, set the environment variable `TF_ENABLE_ONEDNN_OPTS=0`.\n",
      "2023-07-27 07:57:46.556456: I tensorflow/core/platform/cpu_feature_guard.cc:182] This TensorFlow binary is optimized to use available CPU instructions in performance-critical operations.\n",
      "To enable the following instructions: AVX2 AVX512F AVX512_VNNI FMA, in other operations, rebuild TensorFlow with the appropriate compiler flags.\n",
      "2023-07-27 07:57:47.942693: W tensorflow/compiler/tf2tensorrt/utils/py_utils.cc:38] TF-TRT Warning: Could not find TensorRT\n"
     ]
    }
   ],
   "source": [
    "import os\n",
    "import re\n",
    "import torch\n",
    "import random\n",
    "import warnings\n",
    "import pandas as pd\n",
    "from datasets import Dataset\n",
    "from peft import (\n",
    "    LoraConfig,\n",
    "    get_peft_model,\n",
    "    PeftModel,\n",
    "    PeftConfig,\n",
    "    prepare_model_for_int8_training\n",
    ")\n",
    "\n",
    "from transformers import (\n",
    "    AutoModelForCausalLM,\n",
    "    AutoTokenizer,\n",
    "    DataCollatorForLanguageModeling,\n",
    "    TrainingArguments,\n",
    "    Trainer,\n",
    ")\n",
    "warnings.filterwarnings('ignore')"
   ]
  },
  {
   "cell_type": "code",
   "execution_count": 2,
   "id": "6f36f50b-157c-4349-b08c-34d93f5fee74",
   "metadata": {},
   "outputs": [
    {
     "name": "stdout",
     "output_type": "stream",
     "text": [
      "(16333, 4)\n"
     ]
    },
    {
     "data": {
      "text/html": [
       "<div>\n",
       "<style scoped>\n",
       "    .dataframe tbody tr th:only-of-type {\n",
       "        vertical-align: middle;\n",
       "    }\n",
       "\n",
       "    .dataframe tbody tr th {\n",
       "        vertical-align: top;\n",
       "    }\n",
       "\n",
       "    .dataframe thead th {\n",
       "        text-align: right;\n",
       "    }\n",
       "</style>\n",
       "<table border=\"1\" class=\"dataframe\">\n",
       "  <thead>\n",
       "    <tr style=\"text-align: right;\">\n",
       "      <th></th>\n",
       "      <th>instruction</th>\n",
       "      <th>input</th>\n",
       "      <th>output</th>\n",
       "      <th>text</th>\n",
       "    </tr>\n",
       "  </thead>\n",
       "  <tbody>\n",
       "    <tr>\n",
       "      <th>0</th>\n",
       "      <td>If you are a doctor, please answer the medical...</td>\n",
       "      <td>What is (are) Glaucoma ?</td>\n",
       "      <td>Glaucoma is a group of diseases that can damag...</td>\n",
       "      <td>Below is an instruction that describes a task,...</td>\n",
       "    </tr>\n",
       "    <tr>\n",
       "      <th>1</th>\n",
       "      <td>If you are a doctor, please answer the medical...</td>\n",
       "      <td>What causes Glaucoma ?</td>\n",
       "      <td>Nearly 2.7 million people have glaucoma, a lea...</td>\n",
       "      <td>Below is an instruction that describes a task,...</td>\n",
       "    </tr>\n",
       "    <tr>\n",
       "      <th>2</th>\n",
       "      <td>If you are a doctor, please answer the medical...</td>\n",
       "      <td>What are the symptoms of Glaucoma ?</td>\n",
       "      <td>Symptoms of Glaucoma  Glaucoma can develop in ...</td>\n",
       "      <td>Below is an instruction that describes a task,...</td>\n",
       "    </tr>\n",
       "    <tr>\n",
       "      <th>3</th>\n",
       "      <td>If you are a doctor, please answer the medical...</td>\n",
       "      <td>What are the treatments for Glaucoma ?</td>\n",
       "      <td>Although open-angle glaucoma cannot be cured, ...</td>\n",
       "      <td>Below is an instruction that describes a task,...</td>\n",
       "    </tr>\n",
       "    <tr>\n",
       "      <th>4</th>\n",
       "      <td>If you are a doctor, please answer the medical...</td>\n",
       "      <td>What is (are) Glaucoma ?</td>\n",
       "      <td>Glaucoma is a group of diseases that can damag...</td>\n",
       "      <td>Below is an instruction that describes a task,...</td>\n",
       "    </tr>\n",
       "  </tbody>\n",
       "</table>\n",
       "</div>"
      ],
      "text/plain": [
       "                                         instruction  \\\n",
       "0  If you are a doctor, please answer the medical...   \n",
       "1  If you are a doctor, please answer the medical...   \n",
       "2  If you are a doctor, please answer the medical...   \n",
       "3  If you are a doctor, please answer the medical...   \n",
       "4  If you are a doctor, please answer the medical...   \n",
       "\n",
       "                                    input  \\\n",
       "0                What is (are) Glaucoma ?   \n",
       "1                  What causes Glaucoma ?   \n",
       "2     What are the symptoms of Glaucoma ?   \n",
       "3  What are the treatments for Glaucoma ?   \n",
       "4                What is (are) Glaucoma ?   \n",
       "\n",
       "                                              output  \\\n",
       "0  Glaucoma is a group of diseases that can damag...   \n",
       "1  Nearly 2.7 million people have glaucoma, a lea...   \n",
       "2  Symptoms of Glaucoma  Glaucoma can develop in ...   \n",
       "3  Although open-angle glaucoma cannot be cured, ...   \n",
       "4  Glaucoma is a group of diseases that can damag...   \n",
       "\n",
       "                                                text  \n",
       "0  Below is an instruction that describes a task,...  \n",
       "1  Below is an instruction that describes a task,...  \n",
       "2  Below is an instruction that describes a task,...  \n",
       "3  Below is an instruction that describes a task,...  \n",
       "4  Below is an instruction that describes a task,...  "
      ]
     },
     "execution_count": 2,
     "metadata": {},
     "output_type": "execute_result"
    }
   ],
   "source": [
    "df = pd.read_csv(os.path.join(os.path.dirname(os.getcwd()), 'data', 'med_ques.csv'))\n",
    "print(df.shape)\n",
    "df.head()"
   ]
  },
  {
   "cell_type": "code",
   "execution_count": 3,
   "id": "15ab3ae5-1b8f-42bf-8f1d-9d45f160a4e1",
   "metadata": {},
   "outputs": [
    {
     "data": {
      "text/plain": [
       "\"Below is an instruction that describes a task, paired with an input that provides further context. \\nWrite a response that appropriately completes the request.\\n\\n### Instruction: \\nIf you are a doctor, please answer the medical questions based on user's query.\\n\\n### Input: What is (are) Glaucoma ?\\n\\n### Response: Glaucoma is a group of diseases that can damage the eye's optic nerve and result in vision loss and blindness. While glaucoma can strike anyone, the risk is much greater for people over 60. How Glaucoma Develops  There are several different types of glaucoma. Most of these involve the drainage system within the eye. At the front of the eye there is a small space called the anterior chamber. A clear fluid flows through this chamber and bathes and nourishes the nearby tissues. (Watch the video to learn more about glaucoma. To enlarge the video, click the brackets in the lower right-hand corner. To reduce the video, press the Escape (Esc) button on your keyboard.) In glaucoma, for still unknown reasons, the fluid drains too slowly out of the eye. As the fluid builds up, the pressure inside the eye rises. Unless this pressure is controlled, it may cause damage to the optic nerve and other parts of the eye and result in loss of vision. Open-angle Glaucoma The most common type of glaucoma is called open-angle glaucoma. In the normal eye, the clear fluid leaves the anterior chamber at the open angle where the cornea and iris meet. When fluid reaches the angle, it flows through a spongy meshwork, like a drain, and leaves the eye. Sometimes, when the fluid reaches the angle, it passes too slowly through the meshwork drain, causing the pressure inside the eye to build. If the pressure damages the optic nerve, open-angle glaucoma -- and vision loss -- may result. There is no cure for glaucoma. Vision lost from the disease cannot be restored. However, there are treatments that may save remaining vision. That is why early diagnosis is important.  See this graphic for a quick overview of glaucoma,  including how many people it affects, whos at risk, what to do if you have it, and how to learn more.  See a glossary of glaucoma terms.\""
      ]
     },
     "execution_count": 3,
     "metadata": {},
     "output_type": "execute_result"
    }
   ],
   "source": [
    "df['text'][0]"
   ]
  },
  {
   "cell_type": "code",
   "execution_count": 4,
   "id": "3e40f871-a3ce-477d-abff-c77130b8b37d",
   "metadata": {},
   "outputs": [],
   "source": [
    "INTRO = \"Below is an instruction that describes a task, paired with an input that provides further context. \\nWrite a response that appropriately completes the request.\"\n",
    "INSTRUCTION_FORMAT = (\n",
    "    \"\"\"{intro}\\n\\n### Instruction: \\n{instruction}\\n\\n### Input: {input}\\n\\n ### Response: \"\"\"\n",
    ")\n",
    "\n",
    "def load_model_tokenizer_for_generate(pretrained_model_name_or_path: str):\n",
    "    tokenizer = AutoTokenizer.from_pretrained(\n",
    "        pretrained_model_name_or_path, padding_side=\"left\"\n",
    "    )\n",
    "    model = AutoModelForCausalLM.from_pretrained(pretrained_model_name_or_path)\n",
    "    return model, tokenizer\n",
    "\n"
   ]
  },
  {
   "cell_type": "code",
   "execution_count": 5,
   "id": "bcd38936-2732-4f49-9ebf-68155dff428e",
   "metadata": {},
   "outputs": [],
   "source": [
    "def generate_response(\n",
    "    instruction: str,\n",
    "    input_text: str,\n",
    "    *,\n",
    "    model,\n",
    "    tokenizer,\n",
    "    do_sample: bool = True,\n",
    "    max_new_tokens: int = 512,\n",
    "    top_p: float = 0.92,\n",
    "    top_k: int = 0,\n",
    "    **kwargs,\n",
    ") -> str:\n",
    "    input_ids = tokenizer(\n",
    "        INSTRUCTION_FORMAT.format(\n",
    "            intro=INTRO, instruction=instruction, input=input_text\n",
    "        ),\n",
    "        return_tensors=\"pt\",\n",
    "    ).input_ids\n",
    "    gen_tokens = model.generate(\n",
    "        input_ids=input_ids,\n",
    "        pad_token_id=tokenizer.pad_token_id,\n",
    "        do_sample=do_sample,\n",
    "        max_new_tokens=max_new_tokens,\n",
    "        top_p=top_p,\n",
    "        top_k=top_k,\n",
    "        **kwargs,\n",
    "    )\n",
    "    decoded = tokenizer.batch_decode(gen_tokens)[0]\n",
    "\n",
    "    # The response appears after \"### Response:\".  The model has been trained to append \"### End\" at the end.\n",
    "    m = re.search(r\"#+\\s*Response:\\s*(.+?)#+\\s*End\", decoded, flags=re.DOTALL)\n",
    "\n",
    "    response = None\n",
    "    if m:\n",
    "        response = m.group(1).strip()\n",
    "    else:\n",
    "        # The model might not generate the \"### End\" sequence before reaching the max tokens.  In this case, return\n",
    "        # everything after \"### Response:\".\n",
    "        m = re.search(r\"#+\\s*Response:\\s*(.+)\", decoded, flags=re.DOTALL)\n",
    "        if m:\n",
    "            response = m.group(1).strip()\n",
    "        else:\n",
    "            print(f\"Failed to find response in:\\n{decoded}\")\n",
    "\n",
    "    return response\n",
    "\n"
   ]
  },
  {
   "cell_type": "code",
   "execution_count": 12,
   "id": "80dcad9f-bce2-4adc-9faf-a96cf2ee0ae9",
   "metadata": {},
   "outputs": [
    {
     "name": "stdout",
     "output_type": "stream",
     "text": [
      "Welcome to the response generation program!\n"
     ]
    },
    {
     "name": "stdin",
     "output_type": "stream",
     "text": [
      "Enter the input text:  what is the symptomps of cholera?\n"
     ]
    },
    {
     "name": "stderr",
     "output_type": "stream",
     "text": [
      "The attention mask and the pad token id were not set. As a consequence, you may observe unexpected behavior. Please pass your input's `attention_mask` to obtain reliable results.\n",
      "Setting `pad_token_id` to `eos_token_id`:50256 for open-end generation.\n"
     ]
    },
    {
     "name": "stdout",
     "output_type": "stream",
     "text": [
      "****************************************************************************************************\n",
      "Generated Response:\n",
      "The symptoms of cholera include : \n",
      "    \n",
      " - vomiting of fluids and solids \n",
      " - rapid and profuse bowel movements \n",
      " - extreme thirst \n",
      " - excessive urine output \n",
      " - weakness \n",
      " - abdominal pain \n",
      " - dim or bluish skin color \n",
      " - cool and clay-colored skin \n",
      " - sunken eyes \n",
      "    \n",
      " Vomiting of fluids and solids     When cholera enters the\n",
      "****************************************************************************************************\n"
     ]
    },
    {
     "name": "stdin",
     "output_type": "stream",
     "text": [
      "Do you want to continue (yes/no)?  yes\n",
      "Enter the input text:  Let's go for a walk.\n"
     ]
    },
    {
     "name": "stderr",
     "output_type": "stream",
     "text": [
      "The attention mask and the pad token id were not set. As a consequence, you may observe unexpected behavior. Please pass your input's `attention_mask` to obtain reliable results.\n",
      "Setting `pad_token_id` to `eos_token_id`:50256 for open-end generation.\n"
     ]
    },
    {
     "name": "stdout",
     "output_type": "stream",
     "text": [
      "****************************************************************************************************\n",
      "Generated Response:\n",
      "-  What is the outlook for Peripheral Vascular Disease?  -  Diagnosis of Peripheral Vascular Disease   -  Treatments for Peripheral Vascular Disease   -  Key Points for the Home Healthcare Provider: Peripheral Vascular Disease   -  The first step in home care for a patient with peripheral vascular disease (PVD) is education. A home healthcare professional can teach patients and their family members how to recognize symptoms of PVD and\n",
      "****************************************************************************************************\n"
     ]
    },
    {
     "name": "stdin",
     "output_type": "stream",
     "text": [
      "Do you want to continue (yes/no)?  Cook me some good food.\n"
     ]
    },
    {
     "name": "stdout",
     "output_type": "stream",
     "text": [
      "Exiting the response generation program.\n"
     ]
    }
   ],
   "source": [
    "if __name__ == \"__main__\":\n",
    "    base_model = \"EleutherAI/gpt-j-6B\"\n",
    "    peft_model_id = os.path.join(os.path.dirname(os.getcwd()), 'results', 'checkpoint-8165')\n",
    "    config = PeftConfig.from_pretrained(peft_model_id)\n",
    "    model = AutoModelForCausalLM.from_pretrained(base_model, return_dict=True, \n",
    "                                                 load_in_8bit=True, torch_dtype = torch.float16)\n",
    "    trained_model = PeftModel.from_pretrained(model, peft_model_id)\n",
    "    tokenizer = AutoTokenizer.from_pretrained(base_model)\n",
    "\n",
    "    print(\"Welcome to the response generation program!\")\n",
    "    while True:\n",
    "        instruction = \"If you are a doctor, please answer the medical questions based on user's query\"\n",
    "        input_text = input(\"Enter the input text: \")\n",
    "        response = generate_response(\n",
    "            instruction=instruction,\n",
    "            input_text=input_text,\n",
    "            model=trained_model,\n",
    "            tokenizer=tokenizer,\n",
    "            \n",
    "            max_new_tokens = 100,\n",
    "        )\n",
    "        print('*' * 100)\n",
    "        print(\"Generated Response:\")\n",
    "        print(response)\n",
    "        print('*' * 100)\n",
    "\n",
    "        continue_generation = input(\"Do you want to continue (yes/no)? \").lower()\n",
    "        if continue_generation != \"yes\":\n",
    "            print(\"Exiting the response generation program.\")\n",
    "            break\n",
    "\n"
   ]
  },
  {
   "cell_type": "code",
   "execution_count": 9,
   "id": "d67597f2-bafa-41f5-bb2f-951d88effb11",
   "metadata": {},
   "outputs": [],
   "source": [
    "text = \"\"\"i love you too!\n",
    "\n",
    "\n",
    "### Instruction: What is (are) bronchopulmonary dysplasia?\n",
    "                \n",
    "Bronchopulmonary dysplasia (BPD) is a term used to describe a severe breathing disorder that occurs in premature infants. The lungs of premature infants may not mature (grow larger) well enough to provide sufficient amounts of oxygen. \n",
    "                \n",
    "Bronchopulmonary dysplasia affects one or both lungs. Treatment may include oxygen and medicines given by a machine (ventilators) to help with breathing. Other treatments may include medications to treat inflammation.\n",
    "                \n",
    "The cause of bronchopulmonary dysplasia is not well understood, but many babies are born prematurely. Possible causes may include infection during pregnancy and problems during delivery. \n",
    "                \n",
    "Some infants with bronchopulmonary dysplasia do not fully recover. Infants who suffer from bronchopulmonary dysplasia have a higher risk for long-term problems and disabilities.\n",
    "                \n",
    "More on this topic\n",
    "                \n",
    "Bronchopulmonary dysplasia is similar to another respiratory disorder called chronic lung disease. In most cases, the two conditions have different causes.\n",
    "                \n",
    "About two out of every 1,000 infants are born prematurely with a serious lung disorder called respiratory distress syndrome (RDS). RDS develops as a complication during birth. During pregnancy, the tiny blood vessels in the lungs (capillaries) cannot grow and stretch to supply oxygen to the developing baby. This can slow down or even stop the growth of the baby's lungs.\n",
    "                \n",
    "Respiratory distress syndrome is the most common cause of death in premature infants. Many infants who survive are left with lifelong breathing problems, such as bronchopulmonary dysplasia.\n",
    "                \n",
    "More information is provided in the NID\"\"\""
   ]
  },
  {
   "cell_type": "code",
   "execution_count": 11,
   "id": "acfe8c28-32b2-4689-9b9b-4107121c6d1f",
   "metadata": {},
   "outputs": [
    {
     "data": {
      "text/plain": [
       "1827"
      ]
     },
     "execution_count": 11,
     "metadata": {},
     "output_type": "execute_result"
    }
   ],
   "source": [
    "len(text)"
   ]
  },
  {
   "cell_type": "code",
   "execution_count": null,
   "id": "6753bfa2-e851-471b-a9fb-28137216d5ce",
   "metadata": {},
   "outputs": [],
   "source": []
  }
 ],
 "metadata": {
  "kernelspec": {
   "display_name": "Python 3 (ipykernel)",
   "language": "python",
   "name": "python3"
  },
  "language_info": {
   "codemirror_mode": {
    "name": "ipython",
    "version": 3
   },
   "file_extension": ".py",
   "mimetype": "text/x-python",
   "name": "python",
   "nbconvert_exporter": "python",
   "pygments_lexer": "ipython3",
   "version": "3.10.10"
  }
 },
 "nbformat": 4,
 "nbformat_minor": 5
}
